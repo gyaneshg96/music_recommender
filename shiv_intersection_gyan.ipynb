{
 "cells": [
  {
   "cell_type": "code",
   "execution_count": 1,
   "id": "13998548",
   "metadata": {},
   "outputs": [],
   "source": [
    "import os\n",
    "import pyspark\n",
    "import math\n",
    "from pyspark.sql import SparkSession\n",
    "from pyspark.sql.functions import substring"
   ]
  },
  {
   "cell_type": "code",
   "execution_count": 2,
   "id": "2cd60929",
   "metadata": {},
   "outputs": [],
   "source": [
    "import pandas as pd\n",
    "import numpy as np\n",
    "import datetime"
   ]
  },
  {
   "cell_type": "code",
   "execution_count": 3,
   "id": "62659dc1",
   "metadata": {},
   "outputs": [],
   "source": [
    "def read_parquet_folder_as_pandas(path, verbosity=1):\n",
    "  files = [f for f in os.listdir(path) if f.endswith(\"parquet\")]\n",
    "\n",
    "  if verbosity > 0:\n",
    "    print(\"{} parquet files found. Beginning reading...\".format(len(files)), end=\"\")\n",
    "    start = datetime.datetime.now()\n",
    "\n",
    "  df_list = [pd.read_parquet(os.path.join(path, f)) for f in files]\n",
    "  df = pd.concat(df_list, ignore_index=True)\n",
    "\n",
    "  if verbosity > 0:\n",
    "    end = datetime.datetime.now()\n",
    "    print(\" Finished. Took {}\".format(end-start))\n",
    "  return df"
   ]
  },
  {
   "cell_type": "code",
   "execution_count": 4,
   "id": "fa44f221",
   "metadata": {},
   "outputs": [
    {
     "name": "stdout",
     "output_type": "stream",
     "text": [
      "3 parquet files found. Beginning reading... Finished. Took 0:00:02.533867\n"
     ]
    }
   ],
   "source": [
    "df2 = read_parquet_folder_as_pandas(\"1.2MtracksFeaturesParquet\")"
   ]
  },
  {
   "cell_type": "code",
   "execution_count": 5,
   "id": "3d9c6c8f",
   "metadata": {},
   "outputs": [
    {
     "name": "stdout",
     "output_type": "stream",
     "text": [
      "96 parquet files found. Beginning reading... Finished. Took 0:00:05.034657\n"
     ]
    }
   ],
   "source": [
    "df1 = read_parquet_folder_as_pandas(\"songDF.parquet\")"
   ]
  },
  {
   "cell_type": "code",
   "execution_count": 6,
   "id": "ab38d3de",
   "metadata": {},
   "outputs": [],
   "source": [
    "df1 = df1[[\"id\",\"title\"]]\n",
    "df1.columns = [[\"id\",\"name\"]]"
   ]
  },
  {
   "cell_type": "code",
   "execution_count": 7,
   "id": "79c90db9",
   "metadata": {},
   "outputs": [
    {
     "data": {
      "text/html": [
       "<div>\n",
       "<style scoped>\n",
       "    .dataframe tbody tr th:only-of-type {\n",
       "        vertical-align: middle;\n",
       "    }\n",
       "\n",
       "    .dataframe tbody tr th {\n",
       "        vertical-align: top;\n",
       "    }\n",
       "\n",
       "    .dataframe thead tr th {\n",
       "        text-align: left;\n",
       "    }\n",
       "</style>\n",
       "<table border=\"1\" class=\"dataframe\">\n",
       "  <thead>\n",
       "    <tr>\n",
       "      <th></th>\n",
       "      <th>id</th>\n",
       "      <th>name</th>\n",
       "    </tr>\n",
       "  </thead>\n",
       "  <tbody>\n",
       "    <tr>\n",
       "      <th>0</th>\n",
       "      <td>SOJOUCR12A58A7591A</td>\n",
       "      <td>we don't need ya</td>\n",
       "    </tr>\n",
       "    <tr>\n",
       "      <th>1</th>\n",
       "      <td>SOLVQGV12AC3DFA577</td>\n",
       "      <td>angels from the realms of glory</td>\n",
       "    </tr>\n",
       "    <tr>\n",
       "      <th>2</th>\n",
       "      <td>SOEFANT12AC9075290</td>\n",
       "      <td>exorcise this wasteland (remix)</td>\n",
       "    </tr>\n",
       "    <tr>\n",
       "      <th>3</th>\n",
       "      <td>SOEOFOU12A8C135526</td>\n",
       "      <td>quintet no. 5 in e major for two violins_ viol...</td>\n",
       "    </tr>\n",
       "    <tr>\n",
       "      <th>4</th>\n",
       "      <td>SOIHCRO12D02198F34</td>\n",
       "      <td>tip the scales</td>\n",
       "    </tr>\n",
       "    <tr>\n",
       "      <th>...</th>\n",
       "      <td>...</td>\n",
       "      <td>...</td>\n",
       "    </tr>\n",
       "    <tr>\n",
       "      <th>999995</th>\n",
       "      <td>SODMQEF12A8C139C86</td>\n",
       "      <td>h-o-p-p- why?</td>\n",
       "    </tr>\n",
       "    <tr>\n",
       "      <th>999996</th>\n",
       "      <td>SOASORC12AB0187499</td>\n",
       "      <td>con las alas rotas</td>\n",
       "    </tr>\n",
       "    <tr>\n",
       "      <th>999997</th>\n",
       "      <td>SOLPQYU12A6D4F7215</td>\n",
       "      <td>don't get around much anymore</td>\n",
       "    </tr>\n",
       "    <tr>\n",
       "      <th>999998</th>\n",
       "      <td>SOLJCPK12AB018899B</td>\n",
       "      <td>intro</td>\n",
       "    </tr>\n",
       "    <tr>\n",
       "      <th>999999</th>\n",
       "      <td>SONTRZE12A67ADC107</td>\n",
       "      <td>playhouse (explicit version)</td>\n",
       "    </tr>\n",
       "  </tbody>\n",
       "</table>\n",
       "<p>1000000 rows × 2 columns</p>\n",
       "</div>"
      ],
      "text/plain": [
       "                        id                                               name\n",
       "0       SOJOUCR12A58A7591A                                   we don't need ya\n",
       "1       SOLVQGV12AC3DFA577                    angels from the realms of glory\n",
       "2       SOEFANT12AC9075290                    exorcise this wasteland (remix)\n",
       "3       SOEOFOU12A8C135526  quintet no. 5 in e major for two violins_ viol...\n",
       "4       SOIHCRO12D02198F34                                     tip the scales\n",
       "...                    ...                                                ...\n",
       "999995  SODMQEF12A8C139C86                                      h-o-p-p- why?\n",
       "999996  SOASORC12AB0187499                                 con las alas rotas\n",
       "999997  SOLPQYU12A6D4F7215                      don't get around much anymore\n",
       "999998  SOLJCPK12AB018899B                                              intro\n",
       "999999  SONTRZE12A67ADC107                       playhouse (explicit version)\n",
       "\n",
       "[1000000 rows x 2 columns]"
      ]
     },
     "execution_count": 7,
     "metadata": {},
     "output_type": "execute_result"
    }
   ],
   "source": [
    "df1"
   ]
  },
  {
   "cell_type": "code",
   "execution_count": 8,
   "id": "52f90813",
   "metadata": {},
   "outputs": [],
   "source": [
    "df2 = df2[[\"id\",\"name\"]]"
   ]
  },
  {
   "cell_type": "code",
   "execution_count": 9,
   "id": "396d2912",
   "metadata": {},
   "outputs": [],
   "source": [
    "df2[\"name\"] = df2[\"name\"].map(lambda x: x.lower())"
   ]
  },
  {
   "cell_type": "code",
   "execution_count": 10,
   "id": "280a8042",
   "metadata": {},
   "outputs": [
    {
     "data": {
      "text/html": [
       "<div>\n",
       "<style scoped>\n",
       "    .dataframe tbody tr th:only-of-type {\n",
       "        vertical-align: middle;\n",
       "    }\n",
       "\n",
       "    .dataframe tbody tr th {\n",
       "        vertical-align: top;\n",
       "    }\n",
       "\n",
       "    .dataframe thead th {\n",
       "        text-align: right;\n",
       "    }\n",
       "</style>\n",
       "<table border=\"1\" class=\"dataframe\">\n",
       "  <thead>\n",
       "    <tr style=\"text-align: right;\">\n",
       "      <th></th>\n",
       "      <th>id</th>\n",
       "      <th>name</th>\n",
       "    </tr>\n",
       "  </thead>\n",
       "  <tbody>\n",
       "    <tr>\n",
       "      <th>0</th>\n",
       "      <td>5EjHf83FVd53WFr8yfErUi</td>\n",
       "      <td>sittin' on top of the world</td>\n",
       "    </tr>\n",
       "    <tr>\n",
       "      <th>1</th>\n",
       "      <td>4QQlmPMDpOSB9DNFYzsDzU</td>\n",
       "      <td>am i born to die?</td>\n",
       "    </tr>\n",
       "    <tr>\n",
       "      <th>2</th>\n",
       "      <td>3DUFMqtynem6XMXTLkR3wf</td>\n",
       "      <td>i'm going home</td>\n",
       "    </tr>\n",
       "    <tr>\n",
       "      <th>3</th>\n",
       "      <td>4kRGPeHDulsh4hg3barZH3</td>\n",
       "      <td>never far away</td>\n",
       "    </tr>\n",
       "    <tr>\n",
       "      <th>4</th>\n",
       "      <td>0jVepxXjNtS5eldyPcmFK3</td>\n",
       "      <td>christmas time will soon be over</td>\n",
       "    </tr>\n",
       "    <tr>\n",
       "      <th>...</th>\n",
       "      <td>...</td>\n",
       "      <td>...</td>\n",
       "    </tr>\n",
       "    <tr>\n",
       "      <th>972473</th>\n",
       "      <td>4RQmq0NSmQsnkmruH7gUbT</td>\n",
       "      <td>jump jump</td>\n",
       "    </tr>\n",
       "    <tr>\n",
       "      <th>972474</th>\n",
       "      <td>7i5fOTOt0VQpXPoaG71ILH</td>\n",
       "      <td>goodnight and i wish</td>\n",
       "    </tr>\n",
       "    <tr>\n",
       "      <th>972475</th>\n",
       "      <td>4dp5Wv6ihYCW7PlTyZpEep</td>\n",
       "      <td>wayfaring stranger</td>\n",
       "    </tr>\n",
       "    <tr>\n",
       "      <th>972476</th>\n",
       "      <td>3wxPT46lvtnmggDJS03DIl</td>\n",
       "      <td>like a songbird that has fallen</td>\n",
       "    </tr>\n",
       "    <tr>\n",
       "      <th>972477</th>\n",
       "      <td>6ow1ERTmrCPg1UXqJoDa0Y</td>\n",
       "      <td>i wish my baby was born</td>\n",
       "    </tr>\n",
       "  </tbody>\n",
       "</table>\n",
       "<p>972478 rows × 2 columns</p>\n",
       "</div>"
      ],
      "text/plain": [
       "                            id                              name\n",
       "0       5EjHf83FVd53WFr8yfErUi       sittin' on top of the world\n",
       "1       4QQlmPMDpOSB9DNFYzsDzU                 am i born to die?\n",
       "2       3DUFMqtynem6XMXTLkR3wf                    i'm going home\n",
       "3       4kRGPeHDulsh4hg3barZH3                    never far away\n",
       "4       0jVepxXjNtS5eldyPcmFK3  christmas time will soon be over\n",
       "...                        ...                               ...\n",
       "972473  4RQmq0NSmQsnkmruH7gUbT                         jump jump\n",
       "972474  7i5fOTOt0VQpXPoaG71ILH              goodnight and i wish\n",
       "972475  4dp5Wv6ihYCW7PlTyZpEep                wayfaring stranger\n",
       "972476  3wxPT46lvtnmggDJS03DIl   like a songbird that has fallen\n",
       "972477  6ow1ERTmrCPg1UXqJoDa0Y           i wish my baby was born\n",
       "\n",
       "[972478 rows x 2 columns]"
      ]
     },
     "execution_count": 10,
     "metadata": {},
     "output_type": "execute_result"
    }
   ],
   "source": [
    "df2"
   ]
  },
  {
   "cell_type": "code",
   "execution_count": 11,
   "id": "3003d424",
   "metadata": {},
   "outputs": [],
   "source": [
    "joined = df1.set_index(\"name\").join(df2.set_index(\"name\"), how=\"inner\", lsuffix='_1', rsuffix='_2')"
   ]
  },
  {
   "cell_type": "code",
   "execution_count": 12,
   "id": "669af185",
   "metadata": {},
   "outputs": [
    {
     "data": {
      "text/html": [
       "<div>\n",
       "<style scoped>\n",
       "    .dataframe tbody tr th:only-of-type {\n",
       "        vertical-align: middle;\n",
       "    }\n",
       "\n",
       "    .dataframe tbody tr th {\n",
       "        vertical-align: top;\n",
       "    }\n",
       "\n",
       "    .dataframe thead th {\n",
       "        text-align: right;\n",
       "    }\n",
       "</style>\n",
       "<table border=\"1\" class=\"dataframe\">\n",
       "  <thead>\n",
       "    <tr style=\"text-align: right;\">\n",
       "      <th></th>\n",
       "      <th>(id,)</th>\n",
       "      <th>id</th>\n",
       "    </tr>\n",
       "    <tr>\n",
       "      <th>name</th>\n",
       "      <th></th>\n",
       "      <th></th>\n",
       "    </tr>\n",
       "  </thead>\n",
       "  <tbody>\n",
       "  </tbody>\n",
       "</table>\n",
       "</div>"
      ],
      "text/plain": [
       "Empty DataFrame\n",
       "Columns: [(id,), id]\n",
       "Index: []"
      ]
     },
     "execution_count": 12,
     "metadata": {},
     "output_type": "execute_result"
    }
   ],
   "source": [
    "joined"
   ]
  },
  {
   "cell_type": "code",
   "execution_count": 18,
   "id": "0ab52802",
   "metadata": {},
   "outputs": [
    {
     "data": {
      "text/plain": [
       "name    0\n",
       "dtype: int64"
      ]
     },
     "execution_count": 18,
     "metadata": {},
     "output_type": "execute_result"
    }
   ],
   "source": [
    "(df1['name'] == \"konoha\").sum(axis=0)"
   ]
  },
  {
   "cell_type": "code",
   "execution_count": null,
   "id": "9349545d",
   "metadata": {},
   "outputs": [],
   "source": []
  }
 ],
 "metadata": {
  "kernelspec": {
   "display_name": "Python 3 (ipykernel)",
   "language": "python",
   "name": "python3"
  },
  "language_info": {
   "codemirror_mode": {
    "name": "ipython",
    "version": 3
   },
   "file_extension": ".py",
   "mimetype": "text/x-python",
   "name": "python",
   "nbconvert_exporter": "python",
   "pygments_lexer": "ipython3",
   "version": "3.8.13"
  }
 },
 "nbformat": 4,
 "nbformat_minor": 5
}
