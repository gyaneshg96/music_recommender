{
 "cells": [
  {
   "cell_type": "code",
   "execution_count": 2,
   "id": "8f96b8f5",
   "metadata": {},
   "outputs": [],
   "source": [
    "import pandas as pd\n",
    "import numpy as np\n",
    "import os\n",
    "import datetime\n",
    "from scipy.sparse import csr_matrix, load_npz\n",
    "\n",
    "import implicit"
   ]
  },
  {
   "cell_type": "code",
   "execution_count": 3,
   "id": "c674b228",
   "metadata": {},
   "outputs": [],
   "source": [
    "import matplotlib.pyplot as plt\n",
    "import numpy as np\n",
    "from matplotlib import colors\n",
    "from matplotlib.ticker import PercentFormatter"
   ]
  },
  {
   "cell_type": "code",
   "execution_count": 4,
   "id": "490de791",
   "metadata": {},
   "outputs": [],
   "source": [
    "sparse_playlist_songs = load_npz('sparse_playlist_songs.npz')"
   ]
  },
  {
   "cell_type": "code",
   "execution_count": 5,
   "id": "1a46619e",
   "metadata": {},
   "outputs": [
    {
     "data": {
      "text/plain": [
       "<970917x19050 sparse matrix of type '<class 'numpy.float64'>'\n",
       "\twith 42089548 stored elements in Compressed Sparse Row format>"
      ]
     },
     "execution_count": 5,
     "metadata": {},
     "output_type": "execute_result"
    }
   ],
   "source": [
    "sparse_playlist_songs"
   ]
  },
  {
   "cell_type": "code",
   "execution_count": 6,
   "id": "bb41d78b",
   "metadata": {},
   "outputs": [
    {
     "data": {
      "text/plain": [
       "<19050x970917 sparse matrix of type '<class 'numpy.float64'>'\n",
       "\twith 42089548 stored elements in Compressed Sparse Row format>"
      ]
     },
     "execution_count": 6,
     "metadata": {},
     "output_type": "execute_result"
    }
   ],
   "source": [
    "sparse_songs_playlist = sparse_playlist_songs.T.tocsr()\n",
    "sparse_songs_playlist"
   ]
  },
  {
   "cell_type": "code",
   "execution_count": 7,
   "id": "35e562c6",
   "metadata": {},
   "outputs": [],
   "source": [
    "os.environ['MKL_NUM_THREADS'] = '1' #To avoid multithreading.\n",
    "os.environ['OPENBLAS_NUM_THREADS'] = '1'"
   ]
  },
  {
   "cell_type": "code",
   "execution_count": 14,
   "id": "7580da62",
   "metadata": {},
   "outputs": [],
   "source": [
    "model = implicit.als.AlternatingLeastSquares(factors=1000, iterations=10, calculate_training_loss=True)"
   ]
  },
  {
   "cell_type": "code",
   "execution_count": null,
   "id": "21e0abf1",
   "metadata": {},
   "outputs": [
    {
     "data": {
      "application/vnd.jupyter.widget-view+json": {
       "model_id": "751851cc6d0e487698383ee0f3c07228",
       "version_major": 2,
       "version_minor": 0
      },
      "text/plain": [
       "  0%|          | 0/10 [00:00<?, ?it/s]"
      ]
     },
     "metadata": {},
     "output_type": "display_data"
    }
   ],
   "source": [
    "# alpha = 40\n",
    "model.fit(sparse_songs_playlist)"
   ]
  },
  {
   "cell_type": "code",
   "execution_count": 12,
   "id": "47fca884",
   "metadata": {},
   "outputs": [
    {
     "data": {
      "text/plain": [
       "(array([677682, 217704, 614691, 924499, 583671, 770948, 887024, 796593,\n",
       "        366765, 201681], dtype=int32),\n",
       " array([1.2424823, 1.2137532, 1.1785903, 1.1689152, 1.1639361, 1.1566428,\n",
       "        1.1335206, 1.1197646, 1.1093036, 1.098152 ], dtype=float32))"
      ]
     },
     "execution_count": 12,
     "metadata": {},
     "output_type": "execute_result"
    }
   ],
   "source": [
    "model.recommend(4,sparse_playlist_songs[4])"
   ]
  },
  {
   "cell_type": "code",
   "execution_count": null,
   "id": "e1bb3f44",
   "metadata": {},
   "outputs": [],
   "source": []
  }
 ],
 "metadata": {
  "kernelspec": {
   "display_name": "Python 3 (ipykernel)",
   "language": "python",
   "name": "python3"
  },
  "language_info": {
   "codemirror_mode": {
    "name": "ipython",
    "version": 3
   },
   "file_extension": ".py",
   "mimetype": "text/x-python",
   "name": "python",
   "nbconvert_exporter": "python",
   "pygments_lexer": "ipython3",
   "version": "3.8.13"
  }
 },
 "nbformat": 4,
 "nbformat_minor": 5
}
