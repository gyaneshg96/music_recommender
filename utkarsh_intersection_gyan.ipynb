{
 "cells": [
  {
   "cell_type": "code",
   "execution_count": 1,
   "id": "fa713ff1",
   "metadata": {},
   "outputs": [],
   "source": [
    "import os\n",
    "import pyspark\n",
    "import math\n",
    "from pyspark.sql import SparkSession\n",
    "from pyspark.sql.functions import substring"
   ]
  },
  {
   "cell_type": "code",
   "execution_count": 2,
   "id": "067f3b72",
   "metadata": {},
   "outputs": [],
   "source": [
    "import pandas as pd\n",
    "import numpy as np\n",
    "import datetime"
   ]
  },
  {
   "cell_type": "code",
   "execution_count": 3,
   "id": "44b40a7f",
   "metadata": {},
   "outputs": [],
   "source": [
    "def read_parquet_folder_as_pandas(path, verbosity=1):\n",
    "  files = [f for f in os.listdir(path) if f.endswith(\"parquet\")]\n",
    "\n",
    "  if verbosity > 0:\n",
    "    print(\"{} parquet files found. Beginning reading...\".format(len(files)), end=\"\")\n",
    "    start = datetime.datetime.now()\n",
    "\n",
    "  df_list = [pd.read_parquet(os.path.join(path, f)) for f in files]\n",
    "  df = pd.concat(df_list, ignore_index=True)\n",
    "\n",
    "  if verbosity > 0:\n",
    "    end = datetime.datetime.now()\n",
    "    print(\" Finished. Took {}\".format(end-start))\n",
    "  return df"
   ]
  },
  {
   "cell_type": "code",
   "execution_count": 4,
   "id": "9869ec28",
   "metadata": {},
   "outputs": [
    {
     "name": "stdout",
     "output_type": "stream",
     "text": [
      "96 parquet files found. Beginning reading... Finished. Took 0:00:01.843259\n"
     ]
    }
   ],
   "source": [
    "df1 = read_parquet_folder_as_pandas(\"songDF.parquet\")"
   ]
  },
  {
   "cell_type": "code",
   "execution_count": 5,
   "id": "8bc615df",
   "metadata": {},
   "outputs": [
    {
     "name": "stdout",
     "output_type": "stream",
     "text": [
      "334 parquet files found. Beginning reading... Finished. Took 0:01:15.005264\n"
     ]
    }
   ],
   "source": [
    "df2 = read_parquet_folder_as_pandas(\"spotifymillion.parquet\")"
   ]
  },
  {
   "cell_type": "code",
   "execution_count": 6,
   "id": "e3ccdd27",
   "metadata": {},
   "outputs": [],
   "source": [
    "df1 = df1[[\"id\",\"title\"]]\n",
    "df1.columns = [[\"id\",\"name\"]]"
   ]
  },
  {
   "cell_type": "code",
   "execution_count": 18,
   "id": "275fdaca",
   "metadata": {},
   "outputs": [],
   "source": [
    "df1 = df1.drop_duplicates()"
   ]
  },
  {
   "cell_type": "code",
   "execution_count": 19,
   "id": "b5134711",
   "metadata": {},
   "outputs": [
    {
     "data": {
      "text/html": [
       "<div>\n",
       "<style scoped>\n",
       "    .dataframe tbody tr th:only-of-type {\n",
       "        vertical-align: middle;\n",
       "    }\n",
       "\n",
       "    .dataframe tbody tr th {\n",
       "        vertical-align: top;\n",
       "    }\n",
       "\n",
       "    .dataframe thead tr th {\n",
       "        text-align: left;\n",
       "    }\n",
       "</style>\n",
       "<table border=\"1\" class=\"dataframe\">\n",
       "  <thead>\n",
       "    <tr>\n",
       "      <th></th>\n",
       "      <th>id</th>\n",
       "      <th>name</th>\n",
       "    </tr>\n",
       "  </thead>\n",
       "  <tbody>\n",
       "    <tr>\n",
       "      <th>0</th>\n",
       "      <td>SOJOUCR12A58A7591A</td>\n",
       "      <td>we don't need ya</td>\n",
       "    </tr>\n",
       "    <tr>\n",
       "      <th>1</th>\n",
       "      <td>SOLVQGV12AC3DFA577</td>\n",
       "      <td>angels from the realms of glory</td>\n",
       "    </tr>\n",
       "    <tr>\n",
       "      <th>2</th>\n",
       "      <td>SOEFANT12AC9075290</td>\n",
       "      <td>exorcise this wasteland (remix)</td>\n",
       "    </tr>\n",
       "    <tr>\n",
       "      <th>3</th>\n",
       "      <td>SOEOFOU12A8C135526</td>\n",
       "      <td>quintet no. 5 in e major for two violins_ viol...</td>\n",
       "    </tr>\n",
       "    <tr>\n",
       "      <th>4</th>\n",
       "      <td>SOIHCRO12D02198F34</td>\n",
       "      <td>tip the scales</td>\n",
       "    </tr>\n",
       "    <tr>\n",
       "      <th>...</th>\n",
       "      <td>...</td>\n",
       "      <td>...</td>\n",
       "    </tr>\n",
       "    <tr>\n",
       "      <th>999995</th>\n",
       "      <td>SODMQEF12A8C139C86</td>\n",
       "      <td>h-o-p-p- why?</td>\n",
       "    </tr>\n",
       "    <tr>\n",
       "      <th>999996</th>\n",
       "      <td>SOASORC12AB0187499</td>\n",
       "      <td>con las alas rotas</td>\n",
       "    </tr>\n",
       "    <tr>\n",
       "      <th>999997</th>\n",
       "      <td>SOLPQYU12A6D4F7215</td>\n",
       "      <td>don't get around much anymore</td>\n",
       "    </tr>\n",
       "    <tr>\n",
       "      <th>999998</th>\n",
       "      <td>SOLJCPK12AB018899B</td>\n",
       "      <td>intro</td>\n",
       "    </tr>\n",
       "    <tr>\n",
       "      <th>999999</th>\n",
       "      <td>SONTRZE12A67ADC107</td>\n",
       "      <td>playhouse (explicit version)</td>\n",
       "    </tr>\n",
       "  </tbody>\n",
       "</table>\n",
       "<p>999170 rows × 2 columns</p>\n",
       "</div>"
      ],
      "text/plain": [
       "                        id                                               name\n",
       "0       SOJOUCR12A58A7591A                                   we don't need ya\n",
       "1       SOLVQGV12AC3DFA577                    angels from the realms of glory\n",
       "2       SOEFANT12AC9075290                    exorcise this wasteland (remix)\n",
       "3       SOEOFOU12A8C135526  quintet no. 5 in e major for two violins_ viol...\n",
       "4       SOIHCRO12D02198F34                                     tip the scales\n",
       "...                    ...                                                ...\n",
       "999995  SODMQEF12A8C139C86                                      h-o-p-p- why?\n",
       "999996  SOASORC12AB0187499                                 con las alas rotas\n",
       "999997  SOLPQYU12A6D4F7215                      don't get around much anymore\n",
       "999998  SOLJCPK12AB018899B                                              intro\n",
       "999999  SONTRZE12A67ADC107                       playhouse (explicit version)\n",
       "\n",
       "[999170 rows x 2 columns]"
      ]
     },
     "execution_count": 19,
     "metadata": {},
     "output_type": "execute_result"
    }
   ],
   "source": [
    "df1"
   ]
  },
  {
   "cell_type": "code",
   "execution_count": 9,
   "id": "96b14b59",
   "metadata": {},
   "outputs": [
    {
     "name": "stderr",
     "output_type": "stream",
     "text": [
      "/tmp/ipykernel_1891/2186452094.py:2: SettingWithCopyWarning: \n",
      "A value is trying to be set on a copy of a slice from a DataFrame.\n",
      "Try using .loc[row_indexer,col_indexer] = value instead\n",
      "\n",
      "See the caveats in the documentation: https://pandas.pydata.org/pandas-docs/stable/user_guide/indexing.html#returning-a-view-versus-a-copy\n",
      "  df2[\"track_uri\"] = df2[\"track_uri\"].map(lambda x:x[14:])\n",
      "/tmp/ipykernel_1891/2186452094.py:3: SettingWithCopyWarning: \n",
      "A value is trying to be set on a copy of a slice from a DataFrame.\n",
      "Try using .loc[row_indexer,col_indexer] = value instead\n",
      "\n",
      "See the caveats in the documentation: https://pandas.pydata.org/pandas-docs/stable/user_guide/indexing.html#returning-a-view-versus-a-copy\n",
      "  df2[\"track_name\"] = df2[\"track_name\"].map(lambda x:x.lower())\n"
     ]
    }
   ],
   "source": [
    "df2 = df2[[\"track_uri\",\"track_name\"]]\n",
    "df2[\"track_uri\"] = df2[\"track_uri\"].map(lambda x:x[14:])\n",
    "df2[\"track_name\"] = df2[\"track_name\"].map(lambda x:x.lower())\n",
    "df2.columns = [\"id\",\"name\"]"
   ]
  },
  {
   "cell_type": "code",
   "execution_count": 11,
   "id": "943b39c3",
   "metadata": {},
   "outputs": [],
   "source": [
    "df2 = df2.drop_duplicates()"
   ]
  },
  {
   "cell_type": "code",
   "execution_count": 12,
   "id": "e01f3c3c",
   "metadata": {},
   "outputs": [
    {
     "data": {
      "text/html": [
       "<div>\n",
       "<style scoped>\n",
       "    .dataframe tbody tr th:only-of-type {\n",
       "        vertical-align: middle;\n",
       "    }\n",
       "\n",
       "    .dataframe tbody tr th {\n",
       "        vertical-align: top;\n",
       "    }\n",
       "\n",
       "    .dataframe thead th {\n",
       "        text-align: right;\n",
       "    }\n",
       "</style>\n",
       "<table border=\"1\" class=\"dataframe\">\n",
       "  <thead>\n",
       "    <tr style=\"text-align: right;\">\n",
       "      <th></th>\n",
       "      <th>id</th>\n",
       "      <th>name</th>\n",
       "    </tr>\n",
       "  </thead>\n",
       "  <tbody>\n",
       "    <tr>\n",
       "      <th>0</th>\n",
       "      <td>41hzhXfYJYVFWF21JrmkA9</td>\n",
       "      <td>home for a rest</td>\n",
       "    </tr>\n",
       "    <tr>\n",
       "      <th>1</th>\n",
       "      <td>4UD60np1TaWZMNczJ33aze</td>\n",
       "      <td>political</td>\n",
       "    </tr>\n",
       "    <tr>\n",
       "      <th>2</th>\n",
       "      <td>0pcRJgftExwW9JzDSBSrpp</td>\n",
       "      <td>(putting up with) the joneses</td>\n",
       "    </tr>\n",
       "    <tr>\n",
       "      <th>3</th>\n",
       "      <td>4AYdMGcnkfcrXqMoY20IVD</td>\n",
       "      <td>the old sod</td>\n",
       "    </tr>\n",
       "    <tr>\n",
       "      <th>4</th>\n",
       "      <td>7v8QabmUUr7yxfCN0U6xXV</td>\n",
       "      <td>homelands</td>\n",
       "    </tr>\n",
       "    <tr>\n",
       "      <th>...</th>\n",
       "      <td>...</td>\n",
       "      <td>...</td>\n",
       "    </tr>\n",
       "    <tr>\n",
       "      <th>66345868</th>\n",
       "      <td>0Ega3SDrGwR4FBxWO3PCRc</td>\n",
       "      <td>chaotic punishment (bonus track)</td>\n",
       "    </tr>\n",
       "    <tr>\n",
       "      <th>66345874</th>\n",
       "      <td>0QMzHVx4E8mTX2ptrkKyXF</td>\n",
       "      <td>bombs of death</td>\n",
       "    </tr>\n",
       "    <tr>\n",
       "      <th>66346380</th>\n",
       "      <td>7kgFXzdLiKnDV4GytHe1sb</td>\n",
       "      <td>konoha</td>\n",
       "    </tr>\n",
       "    <tr>\n",
       "      <th>66346410</th>\n",
       "      <td>1t9A2GMNIzrADt8QMgmLQI</td>\n",
       "      <td>up</td>\n",
       "    </tr>\n",
       "    <tr>\n",
       "      <th>66346411</th>\n",
       "      <td>5g7MsdXdtaGDleD2V1glIf</td>\n",
       "      <td>lifted</td>\n",
       "    </tr>\n",
       "  </tbody>\n",
       "</table>\n",
       "<p>2262292 rows × 2 columns</p>\n",
       "</div>"
      ],
      "text/plain": [
       "                              id                              name\n",
       "0         41hzhXfYJYVFWF21JrmkA9                   home for a rest\n",
       "1         4UD60np1TaWZMNczJ33aze                         political\n",
       "2         0pcRJgftExwW9JzDSBSrpp     (putting up with) the joneses\n",
       "3         4AYdMGcnkfcrXqMoY20IVD                       the old sod\n",
       "4         7v8QabmUUr7yxfCN0U6xXV                         homelands\n",
       "...                          ...                               ...\n",
       "66345868  0Ega3SDrGwR4FBxWO3PCRc  chaotic punishment (bonus track)\n",
       "66345874  0QMzHVx4E8mTX2ptrkKyXF                    bombs of death\n",
       "66346380  7kgFXzdLiKnDV4GytHe1sb                            konoha\n",
       "66346410  1t9A2GMNIzrADt8QMgmLQI                                up\n",
       "66346411  5g7MsdXdtaGDleD2V1glIf                            lifted\n",
       "\n",
       "[2262292 rows x 2 columns]"
      ]
     },
     "execution_count": 12,
     "metadata": {},
     "output_type": "execute_result"
    }
   ],
   "source": [
    "df2"
   ]
  },
  {
   "cell_type": "code",
   "execution_count": 20,
   "id": "ddbc48d6",
   "metadata": {},
   "outputs": [],
   "source": [
    "joined = df1.set_index(\"name\").join(df2.set_index(\"name\"), how=\"inner\", lsuffix='_1', rsuffix='_2')"
   ]
  },
  {
   "cell_type": "code",
   "execution_count": 21,
   "id": "26b99e7e",
   "metadata": {},
   "outputs": [
    {
     "data": {
      "text/html": [
       "<div>\n",
       "<style scoped>\n",
       "    .dataframe tbody tr th:only-of-type {\n",
       "        vertical-align: middle;\n",
       "    }\n",
       "\n",
       "    .dataframe tbody tr th {\n",
       "        vertical-align: top;\n",
       "    }\n",
       "\n",
       "    .dataframe thead th {\n",
       "        text-align: right;\n",
       "    }\n",
       "</style>\n",
       "<table border=\"1\" class=\"dataframe\">\n",
       "  <thead>\n",
       "    <tr style=\"text-align: right;\">\n",
       "      <th></th>\n",
       "      <th>(id,)</th>\n",
       "      <th>id</th>\n",
       "    </tr>\n",
       "    <tr>\n",
       "      <th>name</th>\n",
       "      <th></th>\n",
       "      <th></th>\n",
       "    </tr>\n",
       "  </thead>\n",
       "  <tbody>\n",
       "  </tbody>\n",
       "</table>\n",
       "</div>"
      ],
      "text/plain": [
       "Empty DataFrame\n",
       "Columns: [(id,), id]\n",
       "Index: []"
      ]
     },
     "execution_count": 21,
     "metadata": {},
     "output_type": "execute_result"
    }
   ],
   "source": [
    "joined"
   ]
  },
  {
   "cell_type": "code",
   "execution_count": 25,
   "id": "73d31fa4",
   "metadata": {},
   "outputs": [
    {
     "data": {
      "text/html": [
       "<div>\n",
       "<style scoped>\n",
       "    .dataframe tbody tr th:only-of-type {\n",
       "        vertical-align: middle;\n",
       "    }\n",
       "\n",
       "    .dataframe tbody tr th {\n",
       "        vertical-align: top;\n",
       "    }\n",
       "\n",
       "    .dataframe thead tr th {\n",
       "        text-align: left;\n",
       "    }\n",
       "</style>\n",
       "<table border=\"1\" class=\"dataframe\">\n",
       "  <thead>\n",
       "    <tr>\n",
       "      <th></th>\n",
       "      <th>id</th>\n",
       "      <th>name</th>\n",
       "    </tr>\n",
       "  </thead>\n",
       "  <tbody>\n",
       "    <tr>\n",
       "      <th>0</th>\n",
       "      <td>NaN</td>\n",
       "      <td>NaN</td>\n",
       "    </tr>\n",
       "    <tr>\n",
       "      <th>1</th>\n",
       "      <td>NaN</td>\n",
       "      <td>NaN</td>\n",
       "    </tr>\n",
       "    <tr>\n",
       "      <th>2</th>\n",
       "      <td>NaN</td>\n",
       "      <td>NaN</td>\n",
       "    </tr>\n",
       "    <tr>\n",
       "      <th>3</th>\n",
       "      <td>NaN</td>\n",
       "      <td>NaN</td>\n",
       "    </tr>\n",
       "    <tr>\n",
       "      <th>4</th>\n",
       "      <td>NaN</td>\n",
       "      <td>NaN</td>\n",
       "    </tr>\n",
       "    <tr>\n",
       "      <th>...</th>\n",
       "      <td>...</td>\n",
       "      <td>...</td>\n",
       "    </tr>\n",
       "    <tr>\n",
       "      <th>999995</th>\n",
       "      <td>NaN</td>\n",
       "      <td>NaN</td>\n",
       "    </tr>\n",
       "    <tr>\n",
       "      <th>999996</th>\n",
       "      <td>NaN</td>\n",
       "      <td>NaN</td>\n",
       "    </tr>\n",
       "    <tr>\n",
       "      <th>999997</th>\n",
       "      <td>NaN</td>\n",
       "      <td>NaN</td>\n",
       "    </tr>\n",
       "    <tr>\n",
       "      <th>999998</th>\n",
       "      <td>NaN</td>\n",
       "      <td>NaN</td>\n",
       "    </tr>\n",
       "    <tr>\n",
       "      <th>999999</th>\n",
       "      <td>NaN</td>\n",
       "      <td>NaN</td>\n",
       "    </tr>\n",
       "  </tbody>\n",
       "</table>\n",
       "<p>999170 rows × 2 columns</p>\n",
       "</div>"
      ],
      "text/plain": [
       "         id name\n",
       "0       NaN  NaN\n",
       "1       NaN  NaN\n",
       "2       NaN  NaN\n",
       "3       NaN  NaN\n",
       "4       NaN  NaN\n",
       "...     ...  ...\n",
       "999995  NaN  NaN\n",
       "999996  NaN  NaN\n",
       "999997  NaN  NaN\n",
       "999998  NaN  NaN\n",
       "999999  NaN  NaN\n",
       "\n",
       "[999170 rows x 2 columns]"
      ]
     },
     "execution_count": 25,
     "metadata": {},
     "output_type": "execute_result"
    }
   ],
   "source": [
    "df1[df1.name == \"up\"]"
   ]
  },
  {
   "cell_type": "code",
   "execution_count": null,
   "id": "590029fb",
   "metadata": {},
   "outputs": [],
   "source": []
  }
 ],
 "metadata": {
  "kernelspec": {
   "display_name": "Python 3 (ipykernel)",
   "language": "python",
   "name": "python3"
  },
  "language_info": {
   "codemirror_mode": {
    "name": "ipython",
    "version": 3
   },
   "file_extension": ".py",
   "mimetype": "text/x-python",
   "name": "python",
   "nbconvert_exporter": "python",
   "pygments_lexer": "ipython3",
   "version": "3.8.13"
  }
 },
 "nbformat": 4,
 "nbformat_minor": 5
}
